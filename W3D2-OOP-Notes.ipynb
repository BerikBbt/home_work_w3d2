{
 "cells": [
  {
   "cell_type": "markdown",
   "metadata": {},
   "source": [
    "# Object-Oriented-Programming (OOP)"
   ]
  },
  {
   "cell_type": "markdown",
   "metadata": {},
   "source": [
    "## Tasks Today:\n",
    "\n",
    "   \n",
    "\n",
    "1) <b>Creating a Class (Initializing/Declaring)</b> <br>\n",
    "2) <b>Using a Class (Instantiating)</b> <br>\n",
    " &nbsp;&nbsp;&nbsp;&nbsp; a) Creating One Instance <br>\n",
    " &nbsp;&nbsp;&nbsp;&nbsp; b) Creating Multiple Instances <br>\n",
    " &nbsp;&nbsp;&nbsp;&nbsp; c) In-Class Exercise #1 - Create a Class 'Car' and instantiate three different makes of cars <br>\n",
    "3) <b>The \\__init\\__() Method</b> <br>\n",
    " &nbsp;&nbsp;&nbsp;&nbsp; a) The 'self' Attribute <br>\n",
    "4) <b>Class Attributes</b> <br>\n",
    " &nbsp;&nbsp;&nbsp;&nbsp; a) Initializing Attributes <br>\n",
    " &nbsp;&nbsp;&nbsp;&nbsp; b) Setting an Attribute Outside of the \\__init\\__() Method <br>\n",
    " &nbsp;&nbsp;&nbsp;&nbsp; c) Setting Defaults for Attributes <br>\n",
    " &nbsp;&nbsp;&nbsp;&nbsp; d) Accessing Class Attributes <br>\n",
    " &nbsp;&nbsp;&nbsp;&nbsp; e) Changing Class Attributes <br>\n",
    " &nbsp;&nbsp;&nbsp;&nbsp; f) In-Class Exercise #2 - Add a color and wheels attribute to your 'Car' class <br>\n",
    "5) <b>Class Methods</b> <br>\n",
    " &nbsp;&nbsp;&nbsp;&nbsp; a) Creating <br>\n",
    " &nbsp;&nbsp;&nbsp;&nbsp; b) Calling <br>\n",
    " &nbsp;&nbsp;&nbsp;&nbsp; c) Modifying an Attribute's Value Through a Method <br>\n",
    " &nbsp;&nbsp;&nbsp;&nbsp; d) Incrementing an Attribute's Value Through a Method <br>\n",
    " &nbsp;&nbsp;&nbsp;&nbsp; e) In-Class Exercise #3 - Add a method that prints the cars color and wheel number, then call them <br>\n",
    "6) <b>Inheritance</b> <br>\n",
    " &nbsp;&nbsp;&nbsp;&nbsp; a) Syntax for Inheriting from a Parent Class <br>\n",
    " &nbsp;&nbsp;&nbsp;&nbsp; b) The \\__init\\__() Method for a Child Class (super()) <br>\n",
    " &nbsp;&nbsp;&nbsp;&nbsp; c) Defining Attributes and Methods for the Child Class <br>\n",
    " &nbsp;&nbsp;&nbsp;&nbsp; d) Method Overriding <br>\n",
    " &nbsp;&nbsp;&nbsp;&nbsp; e) In-Class Exercise #4 - Create a class 'Ford' that inherits from 'Car' class and initialize it as a Blue Ford Explorer with 4 wheels using the super() method <br>\n",
    "7) <b>Classes as Attributes</b> <br>\n",
    "8) <b>Exercises</b> <br>\n",
    " &nbsp;&nbsp;&nbsp;&nbsp; a) Exercise #1 - Turn the shopping cart program from last week into an object-oriented program <br>"
   ]
  },
  {
   "cell_type": "markdown",
   "metadata": {},
   "source": [
    "## Creating a Class (Initializing/Declaring)\n",
    "<p>When creating a class, function, or even a variable you are initializing that object. Initializing and Declaring occur at the same time in Python, whereas in lower level languages you have to declare an object before initializing it. This is the first step in the process of using a class.</p>"
   ]
  },
  {
   "cell_type": "code",
   "execution_count": 7,
   "metadata": {},
   "outputs": [],
   "source": [
    "class Car():\n",
    "    wheels = 4\n",
    "    color = \"blue\"\n",
    "    title = \"berik you own this car\"\n",
    "    \n",
    "\n",
    "\n"
   ]
  },
  {
   "cell_type": "code",
   "execution_count": null,
   "metadata": {},
   "outputs": [],
   "source": [
    "class Pho():\n",
    "    broth = \"chicken broth\"\n",
    "    protein = \"chicken\"\n",
    "    vegetable = ['bean sprouts', 'jalapeno', 'cilantro', 'carrots']\n",
    "    tasty_flavor_juices = ['lime', 'sriracha']\n",
    "\n"
   ]
  },
  {
   "cell_type": "markdown",
   "metadata": {},
   "source": [
    "## Using a Class (Instantiating)\n",
    "<p>The process of creating a class is called <i>Instantiating</i>. Each time you create a variable of that type of class, it is referred to as an <i>Instance</i> of that class. This is the second step in the process of using a class.</p>"
   ]
  },
  {
   "cell_type": "markdown",
   "metadata": {},
   "source": [
    "##### Creating One Instance"
   ]
  },
  {
   "cell_type": "code",
   "execution_count": 4,
   "metadata": {},
   "outputs": [
    {
     "name": "stdout",
     "output_type": "stream",
     "text": [
      "Berik\n"
     ]
    }
   ],
   "source": [
    "my_name = \"berik\"\n",
    "print(my_name.title())"
   ]
  },
  {
   "cell_type": "code",
   "execution_count": 9,
   "metadata": {},
   "outputs": [
    {
     "name": "stdout",
     "output_type": "stream",
     "text": [
      "4\n",
      "blue\n",
      "Berik You Own This Car\n",
      "Cheetor\n"
     ]
    }
   ],
   "source": [
    "ford = Car()\n",
    "#print(ford)\n",
    "print(ford.wheels)\n",
    "print(ford.color)\n",
    "print(ford.title.title())\n",
    "\n",
    "name_dict = {\n",
    "    \"name\": \"cheetor\"\n",
    "}\n",
    "print(name_dict[\"name\"].title())"
   ]
  },
  {
   "cell_type": "markdown",
   "metadata": {},
   "source": [
    "##### Creating Multiple Instances"
   ]
  },
  {
   "cell_type": "code",
   "execution_count": 13,
   "metadata": {},
   "outputs": [
    {
     "name": "stdout",
     "output_type": "stream",
     "text": [
      "4\n",
      "blue\n"
     ]
    }
   ],
   "source": [
    "honda = Car()\n",
    "print(honda.wheels)\n",
    "mazda = Car()\n",
    "print(mazda.color)\n"
   ]
  },
  {
   "cell_type": "markdown",
   "metadata": {},
   "source": [
    "##### In-Class Exercise #1 - Create a Class 'Car' and Instantiate three different makes of cars"
   ]
  },
  {
   "cell_type": "code",
   "execution_count": 22,
   "metadata": {},
   "outputs": [
    {
     "name": "stdout",
     "output_type": "stream",
     "text": [
      "('RX350', 'M5', 'Chiron')\n",
      "('Lexus', 'BMW', 'Bugatti')\n",
      "('v6', 'v8', 'v16')\n"
     ]
    }
   ],
   "source": [
    "class Car():\n",
    "    make = \"Lexus\", \"BMW\", \"Bugatti\"\n",
    "    model = \"RX350\", \"M5\", \"Chiron\"\n",
    "    engine = \"v6\", \"v8\", \"v16\"\n",
    "lexus = Car()\n",
    "bmw = Car()\n",
    "bugatti = Car()\n",
    "\n",
    "\n",
    "print(lexus.model)\n",
    "print(bmw.make)\n",
    "print(bugatti.engine)"
   ]
  },
  {
   "cell_type": "code",
   "execution_count": null,
   "metadata": {},
   "outputs": [],
   "source": []
  },
  {
   "cell_type": "code",
   "execution_count": null,
   "metadata": {},
   "outputs": [],
   "source": []
  },
  {
   "cell_type": "code",
   "execution_count": null,
   "metadata": {},
   "outputs": [],
   "source": []
  },
  {
   "cell_type": "code",
   "execution_count": null,
   "metadata": {},
   "outputs": [],
   "source": []
  },
  {
   "cell_type": "markdown",
   "metadata": {},
   "source": [
    "## The \\__init\\__() Method <br>\n",
    "<p>This method is used in almost every created class, and called only once upon the creation of the class instance. This method will initialize all variables needed for the object.</p>"
   ]
  },
  {
   "cell_type": "code",
   "execution_count": 30,
   "metadata": {},
   "outputs": [
    {
     "name": "stdout",
     "output_type": "stream",
     "text": [
      "This class is being instantiated\n",
      "4\n",
      "blue\n",
      "This class is being instantiated\n",
      "this is the mazda 4\n",
      "this is the ford 6\n"
     ]
    }
   ],
   "source": [
    "def do_something():\n",
    "    pass\n",
    "\n",
    "class Car():\n",
    "    \n",
    "    def __init__(self, wheels, color, doors):\n",
    "       print(\"This class is being instantiated\") \n",
    "       self.wheels = wheels\n",
    "       self.color = color\n",
    "       self.doors = doors\n",
    "mazda = Car(4, 'blue', 4)\n",
    "\n",
    "print(mazda.wheels)\n",
    "print(mazda.color)\n",
    "\n",
    "ford = Car(6, 'black', 4)\n",
    "\n",
    "print(\"this is the mazda\",mazda.wheels)\n",
    "print(\"this is the ford\", ford.wheels)"
   ]
  },
  {
   "cell_type": "markdown",
   "metadata": {},
   "source": [
    "##### The 'self' Attribute <br>\n",
    "<p>This attribute is required to keep track of specific instance's attributes. Without the self attribute, the program would not know how to reference or keep track of an instance's attributes.</p>"
   ]
  },
  {
   "cell_type": "code",
   "execution_count": 33,
   "metadata": {},
   "outputs": [
    {
     "name": "stdout",
     "output_type": "stream",
     "text": [
      "Creating user info...\n",
      "user info created, great job!\n",
      "Creating user info...\n",
      "user info created, great job!\n",
      "Creating user info...\n",
      "user info created, great job!\n",
      "\n",
      "\n",
      "coolguy13\n",
      "coorrr12\n",
      "optima5\n"
     ]
    }
   ],
   "source": [
    "class User():\n",
    "    def __init__(self, username, password, email):\n",
    "        print(\"Creating user info...\")\n",
    "        self.username = username\n",
    "        self.password = password\n",
    "        self.email = email\n",
    "        print(\"user info created, great job!\")\n",
    "\n",
    "user1 = User(\"coolguy13\", \"scoob31\", \"bfff@oal.com\",)\n",
    "\n",
    "user2 = User(\"coorrr12\", \"bullll33\", \"chicago@bull.com\")\n",
    "\n",
    "user3 = User(\"optima5\", \"kia33\", \"korean@.com\")\n",
    "\n",
    "print(\"\\n\")\n",
    "\n",
    "print(user1.username)\n",
    "print(user2.username)\n",
    "print(user3.username)\n",
    "\n"
   ]
  },
  {
   "cell_type": "markdown",
   "metadata": {},
   "source": [
    "## Class Attributes <br>\n",
    "<p>While variables are inside of a class, they are referred to as attributes and not variables. When someone says 'attribute' you know they're speaking about a class. Attributes can be initialized through the init method, or outside of it.</p>"
   ]
  },
  {
   "cell_type": "markdown",
   "metadata": {},
   "source": [
    "##### Initializing Attributes"
   ]
  },
  {
   "cell_type": "code",
   "execution_count": 38,
   "metadata": {},
   "outputs": [],
   "source": [
    "class Phone():\n",
    "    def __init__(self, name, type_):\n",
    "        self.name = name\n",
    "        self.type_ = type_\n",
    "iphone = Phone\n",
    "samsung = Phone\n",
    "iphone = Phone(\"max\", \"promax\")\n",
    "samsung = Phone(\"s22\", \"s23\")\n"
   ]
  },
  {
   "cell_type": "markdown",
   "metadata": {},
   "source": [
    "##### Accessing Class Attributes"
   ]
  },
  {
   "cell_type": "code",
   "execution_count": 39,
   "metadata": {
    "scrolled": true
   },
   "outputs": [
    {
     "name": "stdout",
     "output_type": "stream",
     "text": [
      "max\n",
      "s23\n"
     ]
    }
   ],
   "source": [
    "iphone = Phone(\"max\", \"promax\")\n",
    "samsung = Phone(\"s22\", \"s23\")\n",
    "print(iphone.name)\n",
    "print(samsung.type_)\n"
   ]
  },
  {
   "cell_type": "markdown",
   "metadata": {},
   "source": [
    "##### Setting Defaults for Attributes"
   ]
  },
  {
   "cell_type": "code",
   "execution_count": 43,
   "metadata": {},
   "outputs": [
    {
     "name": "stdout",
     "output_type": "stream",
     "text": [
      "white\n",
      "red\n"
     ]
    }
   ],
   "source": [
    "class Car():\n",
    "    def __init__(self, wheels, color = \"red\"):\n",
    "        self.wheels = wheels\n",
    "        self.color = color\n",
    "\n",
    "pontiac = Car(4, 'white')\n",
    "print(pontiac.color)\n",
    "saturn = Car(4)\n",
    "print(saturn.color)\n"
   ]
  },
  {
   "cell_type": "code",
   "execution_count": 46,
   "metadata": {},
   "outputs": [
    {
     "name": "stdout",
     "output_type": "stream",
     "text": [
      "5\n",
      "Blue\n",
      "5\n",
      "Blue\n"
     ]
    }
   ],
   "source": [
    "class Car():\n",
    "    def __init__(self, doors):\n",
    "        self.doors = doors\n",
    "        self.color = \"Blue\"\n",
    "\n",
    "mercury = Car(5)\n",
    "print(mercury.doors)\n",
    "print(mercury.color)\n",
    "\n",
    "jupyter = Car(4)\n",
    "print(mercury.doors)\n",
    "print(mercury.color)\n",
    "\n"
   ]
  },
  {
   "cell_type": "markdown",
   "metadata": {},
   "source": [
    "##### Changing Class Attributes <br>\n",
    "<p>Keep in mind there are global class attributes and then there are attributes only available to each class instance which won't effect other classes.</p>"
   ]
  },
  {
   "cell_type": "code",
   "execution_count": 51,
   "metadata": {},
   "outputs": [
    {
     "name": "stdout",
     "output_type": "stream",
     "text": [
      "before color change: Blue\n",
      "after color change: yellow\n",
      "before door change: 4\n",
      "after door change: 6\n"
     ]
    }
   ],
   "source": [
    "chevy = Car(4)\n",
    "print(f\"before color change: {chevy.color}\")\n",
    "chevy.color = \"yellow\"\n",
    "print(f\"after color change: {chevy.color}\")\n",
    "\n",
    "print(f\"before door change: {chevy.doors}\")\n",
    "chevy.doors = 6\n",
    "print(f\"after door change: {chevy.doors}\")"
   ]
  },
  {
   "cell_type": "code",
   "execution_count": null,
   "metadata": {},
   "outputs": [],
   "source": []
  },
  {
   "cell_type": "markdown",
   "metadata": {},
   "source": [
    "##### In-Class Exercise #2 - Add two new attributes to your 'Car' class then print out two different instances with different doors and seats. Then take that bad boy to the shop and change those attributes. Either with an input or just by changing them"
   ]
  },
  {
   "cell_type": "code",
   "execution_count": 59,
   "metadata": {},
   "outputs": [
    {
     "name": "stdout",
     "output_type": "stream",
     "text": [
      "4\n",
      "11\n",
      "before door change: 4\n",
      "after door change: 4\n",
      "before door change: 5\n",
      "after door change: 5\n"
     ]
    }
   ],
   "source": [
    "class Car():\n",
    "    def __init__(self, doors, seats):\n",
    "        self.doors = doors\n",
    "        self.seats = seats\n",
    "\n",
    "bmwx7 = car\n",
    "pacifica = car\n",
    "bmwx7 = Car(4,7)\n",
    "pacifica = Car(5,11)\n",
    "\n",
    "print(bmwx7.doors)\n",
    "print(pacifica.seats)\n",
    "\n",
    "print(f\"before door change: {bmwx7.doors}\")\n",
    "bmwx7.doors = 4\n",
    "print(f\"after door change: {bmwx7.doors}\")\n",
    "\n",
    "print(f\"before door change: {pacifica.doors}\")\n",
    "pacifica.doors = 5\n",
    "print(f\"after door change: {pacifica.doors}\")\n"
   ]
  },
  {
   "cell_type": "markdown",
   "metadata": {},
   "source": [
    "## Class Methods <br>\n",
    "<p>While inside of a class, functions are referred to as 'methods'. If you hear someone mention methods, they're speaking about classes. Methods are essentially functions, but only callable on the instances of a class.</p>"
   ]
  },
  {
   "cell_type": "markdown",
   "metadata": {},
   "source": [
    "##### Creating"
   ]
  },
  {
   "cell_type": "code",
   "execution_count": 62,
   "metadata": {},
   "outputs": [
    {
     "name": "stdout",
     "output_type": "stream",
     "text": [
      "This Lexus RX350 has 4 doors and 5 seats\n"
     ]
    }
   ],
   "source": [
    "class Car():\n",
    "    def __init__(self, doors, seats, make, model):\n",
    "        self.doors = doors\n",
    "        self.seats = seats\n",
    "        self.make = make\n",
    "        self.model = model\n",
    "\n",
    "    def print_info(self):\n",
    "        print(f\"This {self.make} {self.model} has {self.doors} doors and {self.seats} seats\")\n",
    "\n",
    "lexus = Car(4, 5, \"Lexus\", \"RX350\")\n",
    "\n",
    "lexus.print_info()"
   ]
  },
  {
   "cell_type": "code",
   "execution_count": 69,
   "metadata": {},
   "outputs": [],
   "source": [
    "class Bus():\n",
    "    \"\"\"\n",
    "    The bus will have doors, seats, seats available, color, and a bus driver\n",
    "\n",
    "    Attributes for the bus:\n",
    "    -doors: integer\n",
    "    -seats: integer\n",
    "    -seats_available: integer\n",
    "    -color: string\n",
    "    -bus_driver: string\n",
    "    \"\"\"\n",
    "\n",
    "    def __init__(self, doors, seats, seats_available, color, bus_driver):\n",
    "        self.doors = doors\n",
    "        self.seats = seats\n",
    "        self.seats_available = seats_available\n",
    "        self.color = color\n",
    "        self.bus_driver = bus_driver\n",
    "    \n",
    "#     decrementing the number of seats available\n",
    "    def load_passengers(self):\n",
    "        if self.seats_available <= 0:\n",
    "            print(\"The bus is full! You can't take anymore passengers :(\")\n",
    "            if self.seats_available < 0:\n",
    "                print(f\"You have left {abs(self.seats_available)} people by the road.\")\n",
    "                self.seats_available = 0\n",
    "        else:\n",
    "            passengers = int(input(\"How many passengers are gettign on? \"))\n",
    "            self.seats_available -= passengers\n",
    "            if self.seats_available < 0:\n",
    "                print(f\"You have left {abs(self.seats_available)} by the road!\")\n",
    "                self.seats_available = 0\n",
    "                \n",
    "#     incrementing the number of seats available\n",
    "    def unload_passengers(self):\n",
    "        if self.seats_available >= self.seats:\n",
    "            print(\"There is no one on the bus to unload!\")\n",
    "        else: \n",
    "            unload = int(input(\"How many passengers are getting off the bus?\"))\n",
    "            self.seats_available += unload\n",
    "            if self.seats_available >= self.seats:\n",
    "                self.seats_available = self.seats\n",
    "                \n",
    "            print(f\"{unload} passengers have left the bus. There are {self.seats_available} seats left\")\n",
    "            \n",
    "#     change the bus driver attribute\n",
    "    def change_driver(self):\n",
    "        change = input(\"Who is replacing you? \")\n",
    "        self.bus_driver = change\n",
    "        print(f\"The new bus driver is {self.bus_driver}. Be sure to thank them!\")\n",
    "        \n",
    "#   display the number of available seats\n",
    "    def check_seats(self):\n",
    "        print(f\"There are {self.seats_available} seats available\")\n",
    "        \n",
    "#    display the bus color\n",
    "    def admire_bus(self):\n",
    "        print(f\"Would ya just look at it! Would ya just look at that beautiful {self.color} bus! But would ya just look at it.\")\n",
    "        "
   ]
  },
  {
   "cell_type": "markdown",
   "metadata": {},
   "source": [
    "##### Calling"
   ]
  },
  {
   "cell_type": "code",
   "execution_count": 70,
   "metadata": {},
   "outputs": [
    {
     "name": "stdin",
     "output_type": "stream",
     "text": [
      "What would you like to do? Load/Unload/Change Driver/Check Seats/Admire Bus/Quit? load\n",
      "How many passengers are gettign on?  13\n",
      "What would you like to do? Load/Unload/Change Driver/Check Seats/Admire Bus/Quit? unload\n",
      "How many passengers are getting off the bus? 3\n"
     ]
    },
    {
     "name": "stdout",
     "output_type": "stream",
     "text": [
      "3 passengers have left the bus. There are 35 seats left\n"
     ]
    },
    {
     "name": "stdin",
     "output_type": "stream",
     "text": [
      "What would you like to do? Load/Unload/Change Driver/Check Seats/Admire Bus/Quit? change driver\n",
      "Who is replacing you?  Berik\n"
     ]
    },
    {
     "name": "stdout",
     "output_type": "stream",
     "text": [
      "The new bus driver is Berik. Be sure to thank them!\n"
     ]
    },
    {
     "name": "stdin",
     "output_type": "stream",
     "text": [
      "What would you like to do? Load/Unload/Change Driver/Check Seats/Admire Bus/Quit? check seats\n"
     ]
    },
    {
     "name": "stdout",
     "output_type": "stream",
     "text": [
      "There are 35 seats available\n"
     ]
    },
    {
     "name": "stdin",
     "output_type": "stream",
     "text": [
      "What would you like to do? Load/Unload/Change Driver/Check Seats/Admire Bus/Quit? admire bus\n"
     ]
    },
    {
     "name": "stdout",
     "output_type": "stream",
     "text": [
      "Would ya just look at it! Would ya just look at that beautiful yellow bus! But would ya just look at it.\n"
     ]
    },
    {
     "name": "stdin",
     "output_type": "stream",
     "text": [
      "What would you like to do? Load/Unload/Change Driver/Check Seats/Admire Bus/Quit? quit\n"
     ]
    },
    {
     "name": "stdout",
     "output_type": "stream",
     "text": [
      "OH NO! There are still passengers to be picked up. Pls dont abandon them!\n"
     ]
    }
   ],
   "source": [
    "def run():\n",
    "    ryan_bus = Bus(2, 90, 45, \"yellow\", \"Ryan\")\n",
    "    \n",
    "    while True:\n",
    "        response = input(\"What would you like to do? Load/Unload/Change Driver/Check Seats/Admire Bus/Quit?\").lower()\n",
    "        if response == \"quit\":\n",
    "            print(\"OH NO! There are still passengers to be picked up. Pls dont abandon them!\")\n",
    "            break\n",
    "        elif response == \"load\":\n",
    "            ryan_bus.load_passengers()\n",
    "        \n",
    "        elif response == \"unload\":\n",
    "            ryan_bus.unload_passengers()\n",
    "        \n",
    "        elif response == \"change driver\":\n",
    "            ryan_bus.change_driver()\n",
    "        \n",
    "        elif response == \"check seats\":\n",
    "            ryan_bus.check_seats()\n",
    "            \n",
    "        elif response == \"admire bus\":\n",
    "            ryan_bus.admire_bus()\n",
    "        else:\n",
    "            print(\"Please enter a valid, bus-related response\")\n",
    "            \n",
    "        \n",
    "            \n",
    "run()"
   ]
  },
  {
   "cell_type": "markdown",
   "metadata": {},
   "source": [
    "##### Modifying an Attribute's Value Through a Method"
   ]
  },
  {
   "cell_type": "code",
   "execution_count": null,
   "metadata": {},
   "outputs": [],
   "source": [
    "# see above\n",
    "# load_passengers()\n",
    "# unload_passengers()\n",
    "# change_driver()"
   ]
  },
  {
   "cell_type": "code",
   "execution_count": null,
   "metadata": {},
   "outputs": [],
   "source": []
  },
  {
   "cell_type": "markdown",
   "metadata": {},
   "source": [
    "##### Incrementing an Attribute's Value Through a Method"
   ]
  },
  {
   "cell_type": "code",
   "execution_count": null,
   "metadata": {},
   "outputs": [],
   "source": [
    "#unload_passengers()"
   ]
  },
  {
   "cell_type": "code",
   "execution_count": null,
   "metadata": {},
   "outputs": [],
   "source": []
  },
  {
   "cell_type": "markdown",
   "metadata": {},
   "source": [
    "##### In-Class Exercise #3 - Add a method that takes in three parameters of year, doors and seats and prints out a formatted print statement with make, model, year, seats, and doors"
   ]
  },
  {
   "cell_type": "code",
   "execution_count": 79,
   "metadata": {},
   "outputs": [
    {
     "name": "stdout",
     "output_type": "stream",
     "text": [
      "This car is from 2019 and is a Lexus rx350 has 4 doors and 5 seats\n"
     ]
    }
   ],
   "source": [
    "# Create class with 2 paramters inside of the __init__ which are make and model, more if you'd like\n",
    "\n",
    "# Create two methods for your class\n",
    "\n",
    "# Create a method that alters an attribute for your class\n",
    "\n",
    "# Display method that prints information about the vehicle\n",
    "\n",
    "# Output: This car is from 2019 and is a Ford Expolorer and has 4 doors and 5 seats\n",
    "\n",
    "# reminder in order to call class methods object.method()\n",
    "# class Car():\n",
    "#     def __init__(self, year, doors, seats, make, model):\n",
    "#         self.year = year\n",
    "#         self.doors = doors\n",
    "#         self.seats = seats\n",
    "#         self.make = make\n",
    "#         self.model = model\n",
    "        \n",
    "\n",
    "#     def print_info(self):\n",
    "#         print(f\"This {self.make} {self.model} has {self.doors} doors and {self.seats} seats\")\n",
    "\n",
    "# lexus = Car(2019, 4, 5, \"Lexus\", \"rx350\")\n",
    "\n",
    "# lexus.print_info()\n",
    "\n",
    "class Car():\n",
    "    def __init__(self, year, doors, seats, make, model):\n",
    "        self.year = year\n",
    "        self.doors = doors\n",
    "        self.seats = seats\n",
    "        self.make = make\n",
    "        self.model = model\n",
    "        \n",
    "\n",
    "    def print_info(self):\n",
    "        print(f\"This car is from {self.year} and is a {self.make} {self.model} has {self.doors} doors and {self.seats} seats\")\n",
    "\n",
    "lexus = Car(2019, 4, 5, \"Lexus\", \"rx350\")\n",
    "\n",
    "lexus.print_info()\n",
    "\n",
    "\n"
   ]
  },
  {
   "cell_type": "code",
   "execution_count": null,
   "metadata": {},
   "outputs": [],
   "source": []
  },
  {
   "cell_type": "markdown",
   "metadata": {},
   "source": [
    "## Inheritance <br>\n",
    "<p>You can create a child-parent relationship between two classes by using inheritance. What this allows you to do is have overriding methods, but also inherit traits from the parent class. Think of it as an actual parent and child, the child will inherit the parent's genes, as will the classes in OOP</p>"
   ]
  },
  {
   "cell_type": "markdown",
   "metadata": {},
   "source": [
    "##### Syntax for Inheriting from a Parent Class"
   ]
  },
  {
   "cell_type": "code",
   "execution_count": 92,
   "metadata": {},
   "outputs": [],
   "source": [
    "class Animal:\n",
    "    ACCELERATION = 9.8\n",
    "\n",
    "    def __init__(self, name, species, legs = 4):\n",
    "        self.name = name\n",
    "        self.species = species\n",
    "        self.legs = legs\n",
    "        \n",
    "\n",
    "    def make_sound(self):\n",
    "        print(\"REEEEEE\")\n",
    "\n",
    "class Dog(Animal):\n",
    "    SPEED = 15\n",
    "    def __init__ (self, name, species, legs = 4):\n",
    "        super().__init__(name, species, legs)\n",
    "\n",
    "    def print_info(self):\n",
    "        print(f\"{self.name} runs at {self.SPEED} mph and accelerates and {self.ACCELERATION} mps^2\")\n",
    "\n",
    "class Mutt(Dog):\n",
    "    COLOR = \"light brownish\"\n",
    "\n",
    "    def __init__(self, name, species, eye_color, legs = 4):\n",
    "        Dog.__init__(self, name, species, legs)\n",
    "        self.eye_color = eye_color\n",
    "\n",
    "    def make_sound(self):\n",
    "        print(\"ROOOOOOOO\")"
   ]
  },
  {
   "cell_type": "code",
   "execution_count": 94,
   "metadata": {},
   "outputs": [
    {
     "name": "stdout",
     "output_type": "stream",
     "text": [
      "9.8\n",
      "Cheetor\n",
      "REEEEEE\n",
      "Shadow\n",
      "4\n",
      "9.8\n",
      "15\n",
      "REEEEEE\n",
      "Shadow runs at 15 mph and accelerates and 9.8 mps^2\n"
     ]
    },
    {
     "ename": "TypeError",
     "evalue": "Mutt.__init__() takes from 4 to 5 positional arguments but 6 were given",
     "output_type": "error",
     "traceback": [
      "\u001b[1;31m---------------------------------------------------------------------------\u001b[0m",
      "\u001b[1;31mTypeError\u001b[0m                                 Traceback (most recent call last)",
      "Cell \u001b[1;32mIn[94], line 14\u001b[0m\n\u001b[0;32m     11\u001b[0m german_shepard\u001b[38;5;241m.\u001b[39mmake_sound()\n\u001b[0;32m     12\u001b[0m german_shepard\u001b[38;5;241m.\u001b[39mprint_info()\n\u001b[1;32m---> 14\u001b[0m Henri \u001b[38;5;241m=\u001b[39m \u001b[43mMutt\u001b[49m\u001b[43m(\u001b[49m\u001b[38;5;124;43m\"\u001b[39;49m\u001b[38;5;124;43mHenri\u001b[39;49m\u001b[38;5;124;43m\"\u001b[39;49m\u001b[43m,\u001b[49m\u001b[43m \u001b[49m\u001b[38;5;124;43m\"\u001b[39;49m\u001b[38;5;124;43mmutt\u001b[39;49m\u001b[38;5;124;43m\"\u001b[39;49m\u001b[43m,\u001b[49m\u001b[43m \u001b[49m\u001b[38;5;124;43m\"\u001b[39;49m\u001b[38;5;124;43mbrown\u001b[39;49m\u001b[38;5;124;43m\"\u001b[39;49m\u001b[43m,\u001b[49m\u001b[43m \u001b[49m\u001b[38;5;124;43m\"\u001b[39;49m\u001b[38;5;124;43mgrey\u001b[39;49m\u001b[38;5;124;43m\"\u001b[39;49m\u001b[43m,\u001b[49m\u001b[43m \u001b[49m\u001b[38;5;124;43m\"\u001b[39;49m\u001b[38;5;124;43mblack\u001b[39;49m\u001b[38;5;124;43m\"\u001b[39;49m\u001b[43m)\u001b[49m\n\u001b[0;32m     15\u001b[0m Henri\u001b[38;5;241m.\u001b[39mmake_sound()\n\u001b[0;32m     16\u001b[0m \u001b[38;5;28mprint\u001b[39m(Henri\u001b[38;5;241m.\u001b[39mACCELERATION)\n",
      "\u001b[1;31mTypeError\u001b[0m: Mutt.__init__() takes from 4 to 5 positional arguments but 6 were given"
     ]
    }
   ],
   "source": [
    "cheetah = Animal(\"Cheetor\", \"cheetah\")\n",
    "print(cheetah.ACCELERATION)\n",
    "print(cheetah.name)\n",
    "cheetah.make_sound()\n",
    "\n",
    "german_shepard = Dog(\"Shadow\", \"dog\", 4)\n",
    "print(german_shepard.name)\n",
    "print(german_shepard.legs)\n",
    "print(german_shepard.ACCELERATION)\n",
    "print(german_shepard.SPEED)\n",
    "german_shepard.make_sound()\n",
    "german_shepard.print_info()\n",
    "\n",
    "Henri = Mutt(\"Henri\", \"mutt\", \"brown\", \"grey\", \"black\")\n",
    "Henri.make_sound()\n",
    "print(Henri.ACCELERATION)\n",
    "print(Henri.SPEED)"
   ]
  },
  {
   "cell_type": "markdown",
   "metadata": {},
   "source": [
    "##### The \\__init\\__() Method for a Child Class - super()"
   ]
  },
  {
   "cell_type": "code",
   "execution_count": null,
   "metadata": {
    "scrolled": true
   },
   "outputs": [],
   "source": []
  },
  {
   "cell_type": "markdown",
   "metadata": {},
   "source": [
    "##### Defining Attributes and Methods for the Child Class"
   ]
  },
  {
   "cell_type": "code",
   "execution_count": null,
   "metadata": {},
   "outputs": [],
   "source": [
    "# See Above"
   ]
  },
  {
   "cell_type": "markdown",
   "metadata": {},
   "source": [
    "##### Method Overriding"
   ]
  },
  {
   "cell_type": "code",
   "execution_count": null,
   "metadata": {},
   "outputs": [],
   "source": [
    "# See Above"
   ]
  },
  {
   "cell_type": "markdown",
   "metadata": {},
   "source": [
    "## Classes as Attributes <br>\n",
    "<p>Classes can also be used as attributes within another class. This is useful in situations where you need to keep variables locally stored, instead of globally stored.</p>"
   ]
  },
  {
   "cell_type": "code",
   "execution_count": 95,
   "metadata": {},
   "outputs": [
    {
     "name": "stdout",
     "output_type": "stream",
     "text": [
      "2022 Tesla Model Y 20 cells\n"
     ]
    }
   ],
   "source": [
    "class Battery():\n",
    "    VOLTZ = 7.8\n",
    "    \n",
    "    def __init__(self, cells):\n",
    "        self.cells = cells\n",
    "        \n",
    "class Car():\n",
    "    def __init__(self, year, make, model, battery):\n",
    "        self.year = year\n",
    "        self.make = make\n",
    "        self.model = model\n",
    "        self.battery = battery\n",
    "    \n",
    "    def print_info(self):\n",
    "        print(f\"{self.year} {self.make} {self.model} {self.battery} cells\")\n",
    "        \n",
    "batt = Battery(20)\n",
    "\n",
    "tesla = Car(2022, \"Tesla\", \"Model Y\", batt.cells)\n",
    "\n",
    "tesla.print_info()"
   ]
  },
  {
   "cell_type": "markdown",
   "metadata": {},
   "source": [
    "## Classes as Attributes <br>"
   ]
  },
  {
   "cell_type": "markdown",
   "metadata": {},
   "source": [
    "<b>Generators in classes</b>"
   ]
  },
  {
   "cell_type": "code",
   "execution_count": null,
   "metadata": {},
   "outputs": [],
   "source": []
  },
  {
   "cell_type": "markdown",
   "metadata": {},
   "source": [
    "# Exercises"
   ]
  },
  {
   "cell_type": "markdown",
   "metadata": {},
   "source": [
    "### Exercise 1 - Turn the shopping cart program from last week into an object-oriented program\n",
    "\n",
    "The comments in the cell below are there as a guide for thinking about the problem. However, if you feel a different way is best for you and your own thought process, please do what feels best for you by all means."
   ]
  },
  {
   "cell_type": "code",
   "execution_count": 8,
   "metadata": {},
   "outputs": [
    {
     "name": "stdout",
     "output_type": "stream",
     "text": [
      "This Lexus RX350 has 4 doors and 5 seats\n"
     ]
    }
   ],
   "source": [
    "# Create a class called cart that retains items and has methods to add, remove, and show\n",
    "\n",
    "class Cart():\n",
    "    pass\n",
    "class Car():\n",
    "    def __init__(self, doors, seats, make, model):\n",
    "        self.doors = doors\n",
    "        self.seats = seats\n",
    "        self.make = make\n",
    "        self.model = model\n",
    "\n",
    "    def print_info(self):\n",
    "        print(f\"This {self.make} {self.model} has {self.doors} doors and {self.seats} seats\")\n",
    "\n",
    "lexus = Car(4, 5, \"Lexus\", \"RX350\")\n",
    "\n",
    "lexus.print_info()\n",
    "\n",
    " \n"
   ]
  },
  {
   "cell_type": "code",
   "execution_count": 19,
   "metadata": {},
   "outputs": [
    {
     "name": "stdin",
     "output_type": "stream",
     "text": [
      "What would you like to do? add/remove/Quit? quit\n"
     ]
    },
    {
     "name": "stdout",
     "output_type": "stream",
     "text": [
      "Thanks for upgrade!\n"
     ]
    }
   ],
   "source": [
    "def upgrade():\n",
    "    lexus = Car(4, 5, \"Lexus\", \"RX350\")\n",
    "\n",
    "while True:\n",
    "        response = input(\"What would you like to do? add/remove/Quit?\").lower()\n",
    "        if response == \"quit\":\n",
    "            print(\"Thanks for upgrade!\")\n",
    "            break\n",
    "        elif response == \"add\":\n",
    "            lexus_car.add_seats()\n",
    "        \n",
    "        elif response == \"remove\":\n",
    "            lexus_car.remove_seats()\n",
    "        \n",
    "        elif response == \"quit\":\n",
    "            lexus_car.change_mechanic()\n",
    "      \n",
    "        else:\n",
    "            print(\"Please enter a valid, upgrade-related response\")"
   ]
  },
  {
   "cell_type": "markdown",
   "metadata": {},
   "source": [
    "### Exercise 2 - Write a Python class which has two methods get_String and print_String. get_String accept a string from the user and print_String print the string in upper case"
   ]
  },
  {
   "cell_type": "code",
   "execution_count": 20,
   "metadata": {},
   "outputs": [
    {
     "ename": "IndentationError",
     "evalue": "expected an indented block after function definition on line 3 (2175356087.py, line 4)",
     "output_type": "error",
     "traceback": [
      "\u001b[1;36m  Cell \u001b[1;32mIn[20], line 4\u001b[1;36m\u001b[0m\n\u001b[1;33m    self.string = input(\"lexus: \")\u001b[0m\n\u001b[1;37m    ^\u001b[0m\n\u001b[1;31mIndentationError\u001b[0m\u001b[1;31m:\u001b[0m expected an indented block after function definition on line 3\n"
     ]
    }
   ],
   "source": [
    "class string_metod:\n",
    "    \n",
    "    def get_string(self):\n",
    "    self.string = input(\"lexus: \")\n",
    "\n",
    "    def print_string(self):\n",
    "    print(\"Lexus\", self.string.upper())"
   ]
  },
  {
   "cell_type": "code",
   "execution_count": null,
   "metadata": {},
   "outputs": [],
   "source": []
  }
 ],
 "metadata": {
  "kernelspec": {
   "display_name": "Python 3 (ipykernel)",
   "language": "python",
   "name": "python3"
  },
  "language_info": {
   "codemirror_mode": {
    "name": "ipython",
    "version": 3
   },
   "file_extension": ".py",
   "mimetype": "text/x-python",
   "name": "python",
   "nbconvert_exporter": "python",
   "pygments_lexer": "ipython3",
   "version": "3.12.0"
  }
 },
 "nbformat": 4,
 "nbformat_minor": 4
}
